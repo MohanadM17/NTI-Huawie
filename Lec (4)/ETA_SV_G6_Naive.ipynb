{
  "nbformat": 4,
  "nbformat_minor": 0,
  "metadata": {
    "colab": {
      "provenance": []
    },
    "kernelspec": {
      "name": "python3",
      "display_name": "Python 3"
    },
    "language_info": {
      "name": "python"
    }
  },
  "cells": [
    {
      "cell_type": "code",
      "execution_count": 1,
      "metadata": {
        "id": "7UzjmNT2QsM_"
      },
      "outputs": [],
      "source": [
        "#!mkdir dataset\n",
        "#!mv *.csv dataset/\n",
        "#!ls dataset"
      ]
    },
    {
      "cell_type": "code",
      "source": [
        "import numpy  as np\n",
        "import pandas as pd\n",
        "import matplotlib.pyplot as plt\n",
        "import seaborn as sns\n",
        "import glob\n",
        "from sklearn.feature_extraction.text import CountVectorizer\n",
        "from sklearn.model_selection import train_test_split\n"
      ],
      "metadata": {
        "id": "dni5_AzGRtG-"
      },
      "execution_count": 20,
      "outputs": []
    },
    {
      "cell_type": "code",
      "source": [],
      "metadata": {
        "id": "JmgH5qOoUdQF"
      },
      "execution_count": 13,
      "outputs": []
    },
    {
      "cell_type": "code",
      "source": [
        "path=r\"/content/dataset\"\n",
        "allfiles=glob.glob(path+\"/*.csv\")\n",
        "fram=pd.DataFrame()\n",
        "list_=[]\n",
        "for file_ in allfiles:\n",
        "    df=pd.read_csv(file_,index_col=None,header=0)\n",
        "    list_.append(df)\n",
        "fram=pd.concat(list_)\n",
        "frame=fram"
      ],
      "metadata": {
        "id": "uY3aDYWsTa-M"
      },
      "execution_count": 12,
      "outputs": []
    },
    {
      "cell_type": "code",
      "source": [
        "frame.shape"
      ],
      "metadata": {
        "colab": {
          "base_uri": "https://localhost:8080/"
        },
        "id": "pPGWXgh4VQB0",
        "outputId": "fbc5ae39-5a19-4378-a048-4894b2d3b1c2"
      },
      "execution_count": 15,
      "outputs": [
        {
          "output_type": "execute_result",
          "data": {
            "text/plain": [
              "(1956, 5)"
            ]
          },
          "metadata": {},
          "execution_count": 15
        }
      ]
    },
    {
      "cell_type": "code",
      "source": [
        "df=frame.iloc[:,3:5]\n"
      ],
      "metadata": {
        "id": "a2U3EVfKVcsb"
      },
      "execution_count": 21,
      "outputs": []
    },
    {
      "cell_type": "code",
      "source": [
        "x=df['CONTENT']\n",
        "y=df['CLASS']\n",
        "x_train,x_test,y_train,y_test=train_test_split(x,y,test_size=0.30,random_state=53)\n",
        "print(x_train.shape,x_test.shape,y_train.shape,y_test.shape)"
      ],
      "metadata": {
        "colab": {
          "base_uri": "https://localhost:8080/"
        },
        "id": "Yo125bCwWGik",
        "outputId": "bdb3cd11-3128-4c58-cd03-b3a706a214e5"
      },
      "execution_count": 23,
      "outputs": [
        {
          "output_type": "stream",
          "name": "stdout",
          "text": [
            "(1369,) (587,) (1369,) (587,)\n"
          ]
        }
      ]
    },
    {
      "cell_type": "code",
      "source": [
        "count_vectorizer=CountVectorizer(stop_words=\"english\")\n",
        "count_train=count_vectorizer.fit_transform(x_train.values)\n",
        "count_test=count_vectorizer.transform(x_test.values)\n",
        "print(count_train.shape)\n",
        "print(count_test.shape)"
      ],
      "metadata": {
        "colab": {
          "base_uri": "https://localhost:8080/"
        },
        "id": "21NivosjVz2N",
        "outputId": "d29de0f0-6c0e-4afd-995a-6f87b59921aa"
      },
      "execution_count": 29,
      "outputs": [
        {
          "output_type": "stream",
          "name": "stdout",
          "text": [
            "(1369, 3400)\n",
            "(587, 3400)\n"
          ]
        }
      ]
    },
    {
      "cell_type": "code",
      "source": [
        "from sklearn import metrics\n",
        "from sklearn.naive_bayes import MultinomialNB\n",
        "model=MultinomialNB()\n",
        "model.fit(count_train,y_train)\n",
        "pred=model.predict(count_test)\n",
        "score=metrics.accuracy_score(y_test,pred)\n",
        "print(score)"
      ],
      "metadata": {
        "colab": {
          "base_uri": "https://localhost:8080/"
        },
        "id": "WP9WqdLEZ1RL",
        "outputId": "2984e8f0-1c3b-4cdd-9d91-f74cfef18606"
      },
      "execution_count": 30,
      "outputs": [
        {
          "output_type": "stream",
          "name": "stdout",
          "text": [
            "0.899488926746167\n"
          ]
        }
      ]
    },
    {
      "cell_type": "code",
      "source": [
        "datatest=[\"it is not a bad movie\" ]\n",
        "datatest1=pd.DataFrame(datatest)\n",
        "datatest1[0]\n",
        "count_test=count_vectorizer.transform(datatest1[0].values)\n",
        "model.predict(count_test)"
      ],
      "metadata": {
        "colab": {
          "base_uri": "https://localhost:8080/"
        },
        "id": "DATDklMHaIvy",
        "outputId": "eb0e0fb7-feb3-4c01-9cd9-c2f9a4ba889a"
      },
      "execution_count": 35,
      "outputs": [
        {
          "output_type": "execute_result",
          "data": {
            "text/plain": [
              "array([0])"
            ]
          },
          "metadata": {},
          "execution_count": 35
        }
      ]
    }
  ]
}